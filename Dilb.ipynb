{
 "cells": [
  {
   "cell_type": "code",
   "execution_count": 1,
   "id": "caf9ac12-5687-40d7-9d2a-2d0e650ca735",
   "metadata": {},
   "outputs": [
    {
     "ename": "ModuleNotFoundError",
     "evalue": "No module named 'dlib'",
     "output_type": "error",
     "traceback": [
      "\u001b[1;31m---------------------------------------------------------------------\u001b[0m",
      "\u001b[1;31mModuleNotFoundError\u001b[0m                 Traceback (most recent call last)",
      "Cell \u001b[1;32mIn[1], line 1\u001b[0m\n\u001b[1;32m----> 1\u001b[0m \u001b[38;5;28;01mimport\u001b[39;00m\u001b[38;5;250m \u001b[39m\u001b[38;5;21;01mdlib\u001b[39;00m\n\u001b[0;32m      2\u001b[0m \u001b[38;5;28mprint\u001b[39m(\u001b[38;5;124m\"\u001b[39m\u001b[38;5;124m✅ dlib が正常に使えます！\u001b[39m\u001b[38;5;124m\"\u001b[39m)\n",
      "\u001b[1;31mModuleNotFoundError\u001b[0m: No module named 'dlib'"
     ]
    }
   ],
   "source": [
    "import dlib\n",
    "print(\"✅ dlib が正常に使えます！\")\n"
   ]
  },
  {
   "cell_type": "code",
   "execution_count": 2,
   "id": "bfd1e146-8150-4842-aeab-9e79c27b930b",
   "metadata": {},
   "outputs": [],
   "source": [
    "def extract_faces_features_from_url(url):\n",
    "    try:\n",
    "        response = requests.get(url, timeout=5)\n",
    "        img_pil = Image.open(BytesIO(response.content)).convert(\"RGB\")\n",
    "        img_np = np.array(img_pil)\n",
    "\n",
    "        if img_np.shape[0] > 720 or img_np.shape[1] > 1280:\n",
    "            print(\"🔁 画像サイズが大きすぎるのでスキップ\")\n",
    "            return []\n",
    "\n",
    "        gray = cv2.cvtColor(img_np, cv2.COLOR_RGB2GRAY)\n",
    "        faces = detector(gray)\n",
    "\n",
    "        if len(faces) == 0:\n",
    "            return []\n",
    "\n",
    "        features = []\n",
    "        for face in faces:\n",
    "            shape = predictor(gray, face)\n",
    "            left_eye = (shape.part(36).x, shape.part(36).y)\n",
    "            right_eye = (shape.part(45).x, shape.part(45).y)\n",
    "            dx = right_eye[0] - left_eye[0]\n",
    "            dy = right_eye[1] - left_eye[1]\n",
    "            angle = np.degrees(np.arctan2(dy, dx))\n",
    "            features.append({\n",
    "                \"x\": face.left(),\n",
    "                \"y\": face.top(),\n",
    "                \"width\": face.width(),\n",
    "                \"height\": face.height(),\n",
    "                \"angle\": angle\n",
    "            })\n",
    "\n",
    "        return features\n",
    "    except Exception as e:\n",
    "        print(\"❌ Error:\", e)\n",
    "        return []\n"
   ]
  },
  {
   "cell_type": "code",
   "execution_count": null,
   "id": "c9493e8f-0f87-416f-a5d8-49a160e0476f",
   "metadata": {},
   "outputs": [],
   "source": [
    "import dlib\n",
    "import cv2\n",
    "import numpy as np\n",
    "import requests\n",
    "from PIL import Image  \n",
    "from io import BytesIO\n",
    "import requests\n"
   ]
  },
  {
   "cell_type": "code",
   "execution_count": null,
   "id": "322723a1-007b-4a45-8676-156d2f5aed22",
   "metadata": {},
   "outputs": [],
   "source": []
  }
 ],
 "metadata": {
  "kernelspec": {
   "display_name": "Python 3 (ipykernel)",
   "language": "python",
   "name": "python3"
  },
  "language_info": {
   "codemirror_mode": {
    "name": "ipython",
    "version": 3
   },
   "file_extension": ".py",
   "mimetype": "text/x-python",
   "name": "python",
   "nbconvert_exporter": "python",
   "pygments_lexer": "ipython3",
   "version": "3.9.23"
  }
 },
 "nbformat": 4,
 "nbformat_minor": 5
}
