{
 "cells": [
  {
   "cell_type": "code",
   "execution_count": 9,
   "id": "ff4f928c-25bf-48c3-80cf-ae5dce275a07",
   "metadata": {},
   "outputs": [
    {
     "name": "stdout",
     "output_type": "stream",
     "text": [
      "✅ ライブラリ読み込み完了\n"
     ]
    }
   ],
   "source": [
    "# Phase 0: Notebook全体で使う共通ライブラリをインポート\n",
    "import pandas as pd\n",
    "import numpy as np\n",
    "import matplotlib.pyplot as plt\n",
    "import seaborn as sns\n",
    "from sklearn.ensemble import RandomForestRegressor\n",
    "from sklearn.feature_extraction.text import TfidfVectorizer\n",
    "from sklearn.model_selection import train_test_split\n",
    "from sklearn.metrics import mean_squared_error\n",
    "from sklearn.cluster import KMeans\n",
    "from janome.tokenizer import Tokenizer\n",
    "import cv2\n",
    "import requests\n",
    "from io import BytesIO\n",
    "from PIL import Image\n",
    "import mediapipe as mp\n",
    "\n",
    "print(\"✅ ライブラリ読み込み完了\")\n"
   ]
  },
  {
   "cell_type": "code",
   "execution_count": 10,
   "id": "c22fa65b-7dca-4b1c-bc21-3565792f918e",
   "metadata": {},
   "outputs": [],
   "source": [
    "# 📥 データ読み込み（ファイル名は適宜変更）\n",
    "df = pd.read_excel(\"youtube_dataset_20250605.xlsx\")\n",
    "\n",
    "# 欠損処理\n",
    "df[\"title\"] = df[\"title\"].fillna(\"\")\n",
    "df[\"categoryId\"] = pd.to_numeric(df[\"categoryId\"], errors=\"coerce\").fillna(-1).astype(int)\n",
    "df[\"viewCount\"] = pd.to_numeric(df[\"viewCount\"], errors=\"coerce\").fillna(0)\n",
    "df[\"publishedAt\"] = pd.to_datetime(df[\"publishedAt\"])\n",
    "\n",
    "# 投稿日時特徴量\n",
    "df[\"weekday\"] = df[\"publishedAt\"].dt.weekday\n",
    "df[\"hour\"] = df[\"publishedAt\"].dt.hour\n",
    "df[\"is_weekend\"] = df[\"weekday\"].isin([5, 6]).astype(int)\n",
    "df[\"is_month_start\"] = df[\"publishedAt\"].dt.is_month_start.astype(int)\n",
    "df[\"is_month_end\"] = df[\"publishedAt\"].dt.is_month_end.astype(int)\n"
   ]
  },
  {
   "cell_type": "code",
   "execution_count": 11,
   "id": "8e219137-0cc3-4ba7-823e-622532f5fbe3",
   "metadata": {},
   "outputs": [],
   "source": [
    "from janome.tokenizer import Tokenizer\n",
    "from sklearn.feature_extraction.text import TfidfVectorizer\n",
    "\n",
    "# 日本語トークナイズ\n",
    "tokenizer = Tokenizer()\n",
    "def tokenize_japanese(text):\n",
    "    return [token.base_form for token in tokenizer.tokenize(text)\n",
    "            if token.part_of_speech.split(',')[0] in ['名詞', '動詞', '形容詞']]\n",
    "\n",
    "# TF-IDFベクトル化（100次元）\n",
    "vectorizer = TfidfVectorizer(tokenizer=tokenize_japanese, token_pattern=None, max_features=100)\n",
    "tfidf_matrix = vectorizer.fit_transform(df[\"title\"])\n",
    "tfidf_df = pd.DataFrame(tfidf_matrix.toarray(), columns=[f\"tfidf_{w}\" for w in vectorizer.get_feature_names_out()])\n",
    "tfidf_df.index = df.index\n"
   ]
  },
  {
   "cell_type": "code",
   "execution_count": 12,
   "id": "e4b7bb0c-f21b-4dfe-a74f-25cf53a7ea2a",
   "metadata": {},
   "outputs": [],
   "source": [
    "import cv2\n",
    "import requests\n",
    "from io import BytesIO\n",
    "from PIL import Image\n",
    "from sklearn.cluster import KMeans\n",
    "import mediapipe as mp\n",
    "\n",
    "mp_face = mp.solutions.face_detection\n",
    "face_detector = mp_face.FaceDetection(model_selection=1, min_detection_confidence=0.5)\n",
    "\n",
    "thumbnail_cols = [\n",
    "    \"brightness\", \"face_count\", \"telop_ratio\",\n",
    "    \"r_mean\", \"g_mean\", \"b_mean\",\n",
    "    \"h_mean\", \"s_mean\", \"v_mean\"\n",
    "] + [f\"color_ratio_{i}\" for i in range(5)]\n",
    "\n",
    "def extract_thumbnail_features_mediapipe(url):\n",
    "    try:\n",
    "        response = requests.get(url, timeout=5)\n",
    "        img = Image.open(BytesIO(response.content)).convert(\"RGB\").resize((128, 128))\n",
    "        img_np = np.array(img)\n",
    "\n",
    "        # 明度\n",
    "        brightness = np.mean(np.array(img.convert(\"L\")))\n",
    "\n",
    "        # 顔検出\n",
    "        results = face_detector.process(cv2.cvtColor(img_np, cv2.COLOR_RGB2BGR))\n",
    "        face_count = len(results.detections) if results.detections else 0\n",
    "\n",
    "        # テロップ（白 or 黄）\n",
    "        white = (img_np[:, :, 0] > 200) & (img_np[:, :, 1] > 200) & (img_np[:, :, 2] > 200)\n",
    "        yellow = (img_np[:, :, 0] > 200) & (img_np[:, :, 1] > 200) & (img_np[:, :, 2] < 100)\n",
    "        telop_ratio = (white | yellow).sum() / (img_np.shape[0] * img_np.shape[1])\n",
    "\n",
    "        # RGB平均\n",
    "        r_mean = img_np[:, :, 0].mean()\n",
    "        g_mean = img_np[:, :, 1].mean()\n",
    "        b_mean = img_np[:, :, 2].mean()\n",
    "\n",
    "        # HSV平均\n",
    "        hsv = cv2.cvtColor(img_np, cv2.COLOR_RGB2HSV).astype(\"float32\") / 255.0\n",
    "        h_mean = hsv[:, :, 0].mean()\n",
    "        s_mean = hsv[:, :, 1].mean()\n",
    "        v_mean = hsv[:, :, 2].mean()\n",
    "\n",
    "        # 主要色割合\n",
    "        flat = img_np.reshape(-1, 3)\n",
    "        kmeans = KMeans(n_clusters=5, n_init=\"auto\", random_state=42)\n",
    "        labels = kmeans.fit_predict(flat)\n",
    "        color_ratio = np.bincount(labels, minlength=5) / len(labels)\n",
    "\n",
    "        return pd.Series([\n",
    "            brightness, face_count, telop_ratio,\n",
    "            r_mean, g_mean, b_mean,\n",
    "            h_mean, s_mean, v_mean,\n",
    "            *color_ratio\n",
    "        ])\n",
    "    except:\n",
    "        return pd.Series([np.nan] * 14)\n",
    "\n",
    "# 適用 & 欠損補完\n",
    "thumbnail_df = df[\"thumbnail\"].fillna(\"\").apply(extract_thumbnail_features_mediapipe)\n",
    "thumbnail_df.columns = thumbnail_cols\n",
    "thumbnail_df = thumbnail_df.fillna(thumbnail_df.mean())\n",
    "\n",
    "# 結合\n",
    "df = pd.concat([df, thumbnail_df], axis=1)\n"
   ]
  },
  {
   "cell_type": "code",
   "execution_count": 13,
   "id": "e64db291-1cb4-4906-8ef2-c46969052979",
   "metadata": {},
   "outputs": [],
   "source": [
    "# 特徴量の組み合わせ\n",
    "feature_cols = [\"categoryId\", \"weekday\", \"hour\", \"is_weekend\", \"is_month_start\", \"is_month_end\"] + thumbnail_cols\n",
    "X = pd.concat([df[feature_cols].reset_index(drop=True), tfidf_df.reset_index(drop=True)], axis=1)\n",
    "\n",
    "# 目的変数（log変換）\n",
    "y = np.log1p(df[\"viewCount\"])\n"
   ]
  },
  {
   "cell_type": "code",
   "execution_count": 14,
   "id": "e313bc49-bd9b-4b69-a19d-429dfc0cb2b7",
   "metadata": {},
   "outputs": [
    {
     "name": "stdout",
     "output_type": "stream",
     "text": [
      "✅ 学習完了！RMSE（logスケール）: 1.1023\n"
     ]
    }
   ],
   "source": [
    "from sklearn.ensemble import RandomForestRegressor\n",
    "from sklearn.model_selection import train_test_split\n",
    "from sklearn.metrics import mean_squared_error\n",
    "\n",
    "X_train, X_test, y_train, y_test = train_test_split(X, y, test_size=0.2, random_state=42)\n",
    "model = RandomForestRegressor(n_estimators=100, max_depth=10, random_state=42, n_jobs=-1)\n",
    "model.fit(X_train, y_train)\n",
    "\n",
    "y_pred = model.predict(X_test)\n",
    "rmse = np.sqrt(mean_squared_error(y_test, y_pred))\n",
    "print(f\"✅ 学習完了！RMSE（logスケール）: {rmse:.4f}\")\n"
   ]
  },
  {
   "cell_type": "code",
   "execution_count": 15,
   "id": "53adfd23-3864-4f7f-a761-727a82cd4787",
   "metadata": {},
   "outputs": [
    {
     "name": "stderr",
     "output_type": "stream",
     "text": [
      "C:\\Users\\Owner\\anaconda3\\envs\\faceenv\\lib\\site-packages\\IPython\\core\\pylabtools.py:152: UserWarning: Glyph 12377 (\\N{HIRAGANA LETTER SU}) missing from font(s) DejaVu Sans.\n",
      "  fig.canvas.print_figure(bytes_io, **kw)\n",
      "C:\\Users\\Owner\\anaconda3\\envs\\faceenv\\lib\\site-packages\\IPython\\core\\pylabtools.py:152: UserWarning: Glyph 12366 (\\N{HIRAGANA LETTER GI}) missing from font(s) DejaVu Sans.\n",
      "  fig.canvas.print_figure(bytes_io, **kw)\n",
      "C:\\Users\\Owner\\anaconda3\\envs\\faceenv\\lib\\site-packages\\IPython\\core\\pylabtools.py:152: UserWarning: Glyph 12427 (\\N{HIRAGANA LETTER RU}) missing from font(s) DejaVu Sans.\n",
      "  fig.canvas.print_figure(bytes_io, **kw)\n",
      "C:\\Users\\Owner\\anaconda3\\envs\\faceenv\\lib\\site-packages\\IPython\\core\\pylabtools.py:152: UserWarning: Glyph 32670 (\\N{CJK UNIFIED IDEOGRAPH-7F9E}) missing from font(s) DejaVu Sans.\n",
      "  fig.canvas.print_figure(bytes_io, **kw)\n",
      "C:\\Users\\Owner\\anaconda3\\envs\\faceenv\\lib\\site-packages\\IPython\\core\\pylabtools.py:152: UserWarning: Glyph 24677 (\\N{CJK UNIFIED IDEOGRAPH-6065}) missing from font(s) DejaVu Sans.\n",
      "  fig.canvas.print_figure(bytes_io, **kw)\n",
      "C:\\Users\\Owner\\anaconda3\\envs\\faceenv\\lib\\site-packages\\IPython\\core\\pylabtools.py:152: UserWarning: Glyph 20849 (\\N{CJK UNIFIED IDEOGRAPH-5171}) missing from font(s) DejaVu Sans.\n",
      "  fig.canvas.print_figure(bytes_io, **kw)\n",
      "C:\\Users\\Owner\\anaconda3\\envs\\faceenv\\lib\\site-packages\\IPython\\core\\pylabtools.py:152: UserWarning: Glyph 24863 (\\N{CJK UNIFIED IDEOGRAPH-611F}) missing from font(s) DejaVu Sans.\n",
      "  fig.canvas.print_figure(bytes_io, **kw)\n",
      "C:\\Users\\Owner\\anaconda3\\envs\\faceenv\\lib\\site-packages\\IPython\\core\\pylabtools.py:152: UserWarning: Glyph 24615 (\\N{CJK UNIFIED IDEOGRAPH-6027}) missing from font(s) DejaVu Sans.\n",
      "  fig.canvas.print_figure(bytes_io, **kw)\n",
      "C:\\Users\\Owner\\anaconda3\\envs\\faceenv\\lib\\site-packages\\IPython\\core\\pylabtools.py:152: UserWarning: Glyph 20214 (\\N{CJK UNIFIED IDEOGRAPH-4EF6}) missing from font(s) DejaVu Sans.\n",
      "  fig.canvas.print_figure(bytes_io, **kw)\n",
      "C:\\Users\\Owner\\anaconda3\\envs\\faceenv\\lib\\site-packages\\IPython\\core\\pylabtools.py:152: UserWarning: Glyph 127919 (\\N{DIRECT HIT}) missing from font(s) DejaVu Sans.\n",
      "  fig.canvas.print_figure(bytes_io, **kw)\n",
      "C:\\Users\\Owner\\anaconda3\\envs\\faceenv\\lib\\site-packages\\IPython\\core\\pylabtools.py:152: UserWarning: Glyph 37325 (\\N{CJK UNIFIED IDEOGRAPH-91CD}) missing from font(s) DejaVu Sans.\n",
      "  fig.canvas.print_figure(bytes_io, **kw)\n",
      "C:\\Users\\Owner\\anaconda3\\envs\\faceenv\\lib\\site-packages\\IPython\\core\\pylabtools.py:152: UserWarning: Glyph 35201 (\\N{CJK UNIFIED IDEOGRAPH-8981}) missing from font(s) DejaVu Sans.\n",
      "  fig.canvas.print_figure(bytes_io, **kw)\n",
      "C:\\Users\\Owner\\anaconda3\\envs\\faceenv\\lib\\site-packages\\IPython\\core\\pylabtools.py:152: UserWarning: Glyph 12394 (\\N{HIRAGANA LETTER NA}) missing from font(s) DejaVu Sans.\n",
      "  fig.canvas.print_figure(bytes_io, **kw)\n",
      "C:\\Users\\Owner\\anaconda3\\envs\\faceenv\\lib\\site-packages\\IPython\\core\\pylabtools.py:152: UserWarning: Glyph 29305 (\\N{CJK UNIFIED IDEOGRAPH-7279}) missing from font(s) DejaVu Sans.\n",
      "  fig.canvas.print_figure(bytes_io, **kw)\n",
      "C:\\Users\\Owner\\anaconda3\\envs\\faceenv\\lib\\site-packages\\IPython\\core\\pylabtools.py:152: UserWarning: Glyph 24500 (\\N{CJK UNIFIED IDEOGRAPH-5FB4}) missing from font(s) DejaVu Sans.\n",
      "  fig.canvas.print_figure(bytes_io, **kw)\n",
      "C:\\Users\\Owner\\anaconda3\\envs\\faceenv\\lib\\site-packages\\IPython\\core\\pylabtools.py:152: UserWarning: Glyph 37327 (\\N{CJK UNIFIED IDEOGRAPH-91CF}) missing from font(s) DejaVu Sans.\n",
      "  fig.canvas.print_figure(bytes_io, **kw)\n",
      "C:\\Users\\Owner\\anaconda3\\envs\\faceenv\\lib\\site-packages\\IPython\\core\\pylabtools.py:152: UserWarning: Glyph 65288 (\\N{FULLWIDTH LEFT PARENTHESIS}) missing from font(s) DejaVu Sans.\n",
      "  fig.canvas.print_figure(bytes_io, **kw)\n",
      "C:\\Users\\Owner\\anaconda3\\envs\\faceenv\\lib\\site-packages\\IPython\\core\\pylabtools.py:152: UserWarning: Glyph 65289 (\\N{FULLWIDTH RIGHT PARENTHESIS}) missing from font(s) DejaVu Sans.\n",
      "  fig.canvas.print_figure(bytes_io, **kw)\n"
     ]
    },
    {
     "data": {
      "image/png": "[encoded data removed]",
      "text/plain": [
       "<Figure size 1000x600 with 1 Axes>"
      ]
     },
     "metadata": {},
     "output_type": "display_data"
    }
   ],
   "source": [
    "import matplotlib.pyplot as plt\n",
    "import seaborn as sns\n",
    "\n",
    "feat_imp = pd.Series(model.feature_importances_, index=X.columns)\n",
    "top_imp = feat_imp.sort_values(ascending=False).head(20)\n",
    "\n",
    "plt.figure(figsize=(10, 6))\n",
    "sns.barplot(x=top_imp.values, y=top_imp.index)\n",
    "plt.title(\"🎯 重要な特徴量（Top 20）\")\n",
    "plt.show()\n"
   ]
  },
  {
   "cell_type": "code",
   "execution_count": 16,
   "id": "b9989fe3-9dd0-4c3d-abb1-838b2028002d",
   "metadata": {},
   "outputs": [
    {
     "name": "stdout",
     "output_type": "stream",
     "text": [
      "▶️ RMSE（TF-IDF + categoryId）: 1.0490233933345334\n",
      "▶️ RMSE（Full features）: 1.102326085357406\n"
     ]
    }
   ],
   "source": [
    "def evaluate_model(X, y):\n",
    "    X_train, X_test, y_train, y_test = train_test_split(X, y, test_size=0.2, random_state=42)\n",
    "    model = RandomForestRegressor(n_estimators=100, max_depth=10, random_state=42)\n",
    "    model.fit(X_train, y_train)\n",
    "    y_pred = model.predict(X_test)\n",
    "    return np.sqrt(mean_squared_error(y_test, y_pred))\n",
    "\n",
    "X_base = pd.concat([df[[\"categoryId\"]].reset_index(drop=True), tfidf_df.reset_index(drop=True)], axis=1)\n",
    "X_full = pd.concat([df[feature_cols].reset_index(drop=True), tfidf_df.reset_index(drop=True)], axis=1)\n",
    "\n",
    "print(\"▶️ RMSE（TF-IDF + categoryId）:\", evaluate_model(X_base, y))\n",
    "print(\"▶️ RMSE（Full features）:\", evaluate_model(X_full, y))\n"
   ]
  },
  {
   "cell_type": "code",
   "execution_count": 17,
   "id": "487402d1-e5d5-451a-8384-60d71a652d46",
   "metadata": {},
   "outputs": [],
   "source": [
    "thumbnail_cols = [\n",
    "    \"brightness\", \"face_count\", \"telop_ratio\",\n",
    "    \"r_mean\", \"g_mean\", \"b_mean\",\n",
    "    \"h_mean\", \"s_mean\", \"v_mean\"\n",
    "] + [f\"color_ratio_{i}\" for i in range(5)]\n"
   ]
  },
  {
   "cell_type": "code",
   "execution_count": 18,
   "id": "b7cf9747-e9e1-4eee-8e88-74a416a8303f",
   "metadata": {},
   "outputs": [],
   "source": [
    "import pandas as pd\n",
    "import numpy as np\n",
    "\n",
    "# データ読み込み\n",
    "df = pd.read_excel(\"youtube_dataset.xlsx\")\n",
    "\n",
    "# 必要な型変換・欠損補完\n",
    "df[\"title\"] = df[\"title\"].fillna(\"\")\n",
    "df[\"categoryId\"] = pd.to_numeric(df[\"categoryId\"], errors=\"coerce\").fillna(-1).astype(int)\n",
    "df[\"viewCount\"] = pd.to_numeric(df[\"viewCount\"], errors=\"coerce\").fillna(0)\n",
    "df[\"publishedAt\"] = pd.to_datetime(df[\"publishedAt\"])\n",
    "\n",
    "# 投稿時特徴量\n",
    "df[\"weekday\"] = df[\"publishedAt\"].dt.weekday\n",
    "df[\"hour\"] = df[\"publishedAt\"].dt.hour\n",
    "df[\"is_weekend\"] = df[\"weekday\"].isin([5,6]).astype(int)\n",
    "df[\"is_month_start\"] = df[\"publishedAt\"].dt.is_month_start.astype(int)\n",
    "df[\"is_month_end\"] = df[\"publishedAt\"].dt.is_month_end.astype(int)\n"
   ]
  },
  {
   "cell_type": "code",
   "execution_count": 19,
   "id": "4d5de483-5ee9-408e-87b7-0479c0647191",
   "metadata": {},
   "outputs": [],
   "source": [
    "from janome.tokenizer import Tokenizer\n",
    "from sklearn.feature_extraction.text import TfidfVectorizer\n",
    "\n",
    "tokenizer = Tokenizer()\n",
    "def tokenize_japanese(text):\n",
    "    return [token.base_form for token in tokenizer.tokenize(text)\n",
    "            if token.part_of_speech.split(',')[0] in ['名詞', '動詞', '形容詞']]\n",
    "\n",
    "vectorizer = TfidfVectorizer(tokenizer=tokenize_japanese, token_pattern=None, max_features=100)\n",
    "tfidf_matrix = vectorizer.fit_transform(df[\"title\"])\n",
    "tfidf_df = pd.DataFrame(tfidf_matrix.toarray(), columns=[f\"tfidf_{w}\" for w in vectorizer.get_feature_names_out()])\n",
    "tfidf_df.index = df.index\n"
   ]
  },
  {
   "cell_type": "code",
   "execution_count": 20,
   "id": "59f51944-e47e-4442-96bd-3dcd133ed537",
   "metadata": {},
   "outputs": [],
   "source": [
    "import mediapipe as mp\n",
    "import cv2\n",
    "import numpy as np\n",
    "from PIL import Image\n",
    "import requests\n",
    "from io import BytesIO\n",
    "from sklearn.cluster import KMeans\n",
    "\n",
    "# Mediapipe 初期化\n",
    "mp_face_detection = mp.solutions.face_detection\n",
    "face_detector = mp_face_detection.FaceDetection(model_selection=0, min_detection_confidence=0.5)\n",
    "\n",
    "def extract_all_thumbnail_features_mediapipe(url):\n",
    "    try:\n",
    "        response = requests.get(url, timeout=5)\n",
    "        img = Image.open(BytesIO(response.content)).convert(\"RGB\").resize((128, 128))\n",
    "        img_np = np.array(img)\n",
    "\n",
    "        results = face_detector.process(img_np)\n",
    "        face_count = len(results.detections) if results.detections else 0\n",
    "\n",
    "        gray = cv2.cvtColor(img_np, cv2.COLOR_RGB2GRAY)\n",
    "        brightness = gray.mean()\n",
    "\n",
    "        edges = cv2.Canny(gray, 100, 200)\n",
    "        contours, _ = cv2.findContours(edges, cv2.RETR_TREE, cv2.CHAIN_APPROX_SIMPLE)\n",
    "        telop_area = sum(cv2.contourArea(c) for c in contours)\n",
    "        telop_ratio = telop_area / (128 * 128)\n",
    "\n",
    "        r_mean = img_np[:, :, 0].mean()\n",
    "        g_mean = img_np[:, :, 1].mean()\n",
    "        b_mean = img_np[:, :, 2].mean()\n",
    "\n",
    "        hsv = cv2.cvtColor(img_np, cv2.COLOR_RGB2HSV)\n",
    "        h_mean = hsv[:, :, 0].mean()\n",
    "        s_mean = hsv[:, :, 1].mean()\n",
    "        v_mean = hsv[:, :, 2].mean()\n",
    "\n",
    "        pixels = img_np.reshape(-1, 3)\n",
    "        kmeans = KMeans(n_clusters=5, n_init=5).fit(pixels)\n",
    "        hist, _ = np.histogram(kmeans.labels_, bins=np.arange(6))\n",
    "        color_ratio = hist / hist.sum()\n",
    "\n",
    "        return pd.Series(np.concatenate([\n",
    "            [brightness, face_count, telop_ratio],\n",
    "            [r_mean, g_mean, b_mean],\n",
    "            [h_mean, s_mean, v_mean],\n",
    "            color_ratio\n",
    "        ]))\n",
    "    except:\n",
    "        return pd.Series([np.nan] * 14)\n",
    "\n",
    "# 適用\n",
    "thumbnail_df = df[\"thumbnail\"].fillna(\"\").apply(extract_all_thumbnail_features_mediapipe)\n",
    "thumbnail_df.columns = thumbnail_cols\n",
    "thumbnail_df = thumbnail_df.fillna(thumbnail_df.mean())  # 欠損補完\n",
    "\n",
    "# 結合\n",
    "df = pd.concat([df, thumbnail_df], axis=1)\n"
   ]
  },
  {
   "cell_type": "code",
   "execution_count": 21,
   "id": "07e3351e-c993-4e74-b961-de68ba12617a",
   "metadata": {},
   "outputs": [],
   "source": [
    "feature_cols = [\n",
    "    \"categoryId\", \"weekday\", \"hour\", \"is_weekend\", \"is_month_start\", \"is_month_end\"\n",
    "] + thumbnail_cols\n",
    "\n",
    "X = pd.concat([df[feature_cols].reset_index(drop=True), tfidf_df.reset_index(drop=True)], axis=1)\n",
    "y = np.log1p(df[\"viewCount\"])\n"
   ]
  },
  {
   "cell_type": "code",
   "execution_count": 22,
   "id": "776c1b9f-b207-4898-9d7c-787c13b3c489",
   "metadata": {},
   "outputs": [
    {
     "name": "stdout",
     "output_type": "stream",
     "text": [
      "✅ モデル学習完了！RMSE（logスケール）: 1.0594\n"
     ]
    }
   ],
   "source": [
    "from sklearn.ensemble import RandomForestRegressor\n",
    "from sklearn.model_selection import train_test_split\n",
    "from sklearn.metrics import mean_squared_error\n",
    "\n",
    "X_train, X_test, y_train, y_test = train_test_split(X, y, test_size=0.2, random_state=42)\n",
    "model = RandomForestRegressor(n_estimators=100, max_depth=10, random_state=42, n_jobs=-1)\n",
    "model.fit(X_train, y_train)\n",
    "\n",
    "y_pred = model.predict(X_test)\n",
    "rmse = np.sqrt(mean_squared_error(y_test, y_pred))\n",
    "print(f\"✅ モデル学習完了！RMSE（logスケール）: {rmse:.4f}\")\n"
   ]
  },
  {
   "cell_type": "code",
   "execution_count": 23,
   "id": "02356947-9e9d-4d7c-ab82-3444019f1ff1",
   "metadata": {},
   "outputs": [
    {
     "ename": "ModuleNotFoundError",
     "evalue": "No module named 'isodate'",
     "output_type": "error",
     "traceback": [
      "\u001b[1;31m---------------------------------------------------------------------\u001b[0m",
      "\u001b[1;31mModuleNotFoundError\u001b[0m                 Traceback (most recent call last)",
      "Cell \u001b[1;32mIn[23], line 2\u001b[0m\n\u001b[0;32m      1\u001b[0m \u001b[38;5;66;03m# 🔁 再生時間の秒数化 → Shorts判定 → 除外\u001b[39;00m\n\u001b[1;32m----> 2\u001b[0m \u001b[38;5;28;01mfrom\u001b[39;00m\u001b[38;5;250m \u001b[39m\u001b[38;5;21;01misodate\u001b[39;00m\u001b[38;5;250m \u001b[39m\u001b[38;5;28;01mimport\u001b[39;00m parse_duration\n\u001b[0;32m      4\u001b[0m df[\u001b[38;5;124m\"\u001b[39m\u001b[38;5;124mduration_seconds\u001b[39m\u001b[38;5;124m\"\u001b[39m] \u001b[38;5;241m=\u001b[39m df[\u001b[38;5;124m\"\u001b[39m\u001b[38;5;124mduration\u001b[39m\u001b[38;5;124m\"\u001b[39m]\u001b[38;5;241m.\u001b[39mapply(\u001b[38;5;28;01mlambda\u001b[39;00m x: parse_duration(x)\u001b[38;5;241m.\u001b[39mtotal_seconds())\n\u001b[0;32m      5\u001b[0m df \u001b[38;5;241m=\u001b[39m df[df[\u001b[38;5;124m\"\u001b[39m\u001b[38;5;124mduration_seconds\u001b[39m\u001b[38;5;124m\"\u001b[39m] \u001b[38;5;241m>\u001b[39m \u001b[38;5;241m60\u001b[39m]\u001b[38;5;241m.\u001b[39mcopy()\n",
      "\u001b[1;31mModuleNotFoundError\u001b[0m: No module named 'isodate'"
     ]
    }
   ],
   "source": [
    "# 🔁 再生時間の秒数化 → Shorts判定 → 除外\n",
    "from isodate import parse_duration\n",
    "\n",
    "df[\"duration_seconds\"] = df[\"duration\"].apply(lambda x: parse_duration(x).total_seconds())\n",
    "df = df[df[\"duration_seconds\"] > 60].copy()\n"
   ]
  },
  {
   "cell_type": "code",
   "execution_count": 24,
   "id": "c3be0b63-e99e-4de8-b079-f09d7b92944e",
   "metadata": {},
   "outputs": [
    {
     "name": "stdout",
     "output_type": "stream",
     "text": [
      "Collecting isodate\n",
      "  Using cached isodate-0.7.2-py3-none-any.whl.metadata (11 kB)\n",
      "Using cached isodate-0.7.2-py3-none-any.whl (22 kB)\n",
      "Installing collected packages: isodate\n",
      "Successfully installed isodate-0.7.2\n"
     ]
    }
   ],
   "source": [
    "!pip install isodate"
   ]
  },
  {
   "cell_type": "code",
   "execution_count": null,
   "id": "b22d614d-898d-4f47-907f-05d5c9544965",
   "metadata": {},
   "outputs": [],
   "source": []
  }
 ],
 "metadata": {
  "kernelspec": {
   "display_name": "Python (faceenv)",
   "language": "python",
   "name": "faceenv"
  },
  "language_info": {
   "codemirror_mode": {
    "name": "ipython",
    "version": 3
   },
   "file_extension": ".py",
   "mimetype": "text/x-python",
   "name": "python",
   "nbconvert_exporter": "python",
   "pygments_lexer": "ipython3",
   "version": "3.9.23"
  }
 },
 "nbformat": 4,
 "nbformat_minor": 5
}
