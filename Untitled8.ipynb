{
 "cells": [
  {
   "cell_type": "code",
   "execution_count": 1,
   "id": "c2652293-8202-4c04-9b03-5bdfcda0fec9",
   "metadata": {},
   "outputs": [
    {
     "name": "stdout",
     "output_type": "stream",
     "text": [
      "                            file  rows                                                                                                                columns  viewCount_mean  viewCount_median  viewCount_max\n",
      "0           youtube_dataset.xlsx   502  [videoId, title, description, publishedAt, categoryId, tags, thumbnail, viewCount, likeCount, commentCount, duration]   458447.380478          275105.5        8972097\n",
      "1      youtube_dataset_0605.xlsx   130  [videoId, title, description, publishedAt, categoryId, tags, thumbnail, viewCount, likeCount, commentCount, duration]   480303.392308          285448.5        8967448\n",
      "2  youtube_dataset_20250605.xlsx  1168  [videoId, title, description, publishedAt, categoryId, tags, thumbnail, viewCount, likeCount, commentCount, duration]   293289.118151          137871.5        8997637\n",
      "3  youtube_dataset_20250731.xlsx  1197  [videoId, title, description, publishedAt, categoryId, tags, thumbnail, viewCount, likeCount, commentCount, duration]   303986.270677          149856.0        9143461\n"
     ]
    }
   ],
   "source": [
    "import pandas as pd\n",
    "\n",
    "# 比較するファイル一覧\n",
    "files = [\n",
    "    \"youtube_dataset.xlsx\",\n",
    "    \"youtube_dataset_0605.xlsx\",\n",
    "    \"youtube_dataset_20250605.xlsx\",\n",
    "    \"youtube_dataset_20250731.xlsx\"\n",
    "]\n",
    "\n",
    "results = []\n",
    "\n",
    "for file in files:\n",
    "    df = pd.read_excel(file)\n",
    "    info = {\n",
    "        \"file\": file,\n",
    "        \"rows\": len(df),\n",
    "        \"columns\": list(df.columns),\n",
    "        \"viewCount_mean\": df[\"viewCount\"].mean() if \"viewCount\" in df else None,\n",
    "        \"viewCount_median\": df[\"viewCount\"].median() if \"viewCount\" in df else None,\n",
    "        \"viewCount_max\": df[\"viewCount\"].max() if \"viewCount\" in df else None,\n",
    "    }\n",
    "    results.append(info)\n",
    "\n",
    "# 表形式で出力\n",
    "summary = pd.DataFrame(results)\n",
    "print(summary.to_string())\n"
   ]
  },
  {
   "cell_type": "code",
   "execution_count": 2,
   "id": "89c721c8-8dea-4b67-b92c-27cd59eab4b3",
   "metadata": {},
   "outputs": [
    {
     "name": "stdout",
     "output_type": "stream",
     "text": [
      "\n",
      "📂 youtube_dataset.xlsx\n",
      "最も古い動画投稿日: 2023-03-23 08:22:28+00:00\n",
      "タイトル: 絶対に歯を見せてはいけないオタクドライブ【TikTokで300万再生】\n",
      "再生回数: 21,275\n",
      "\n",
      "📂 youtube_dataset_0605.xlsx\n",
      "最も古い動画投稿日: 2022-02-26 05:51:05+00:00\n",
      "タイトル: 【TikTokで大バズり】データが消えて→復元して→また消えた黒人の末路。#ステパン\n",
      "再生回数: 8,967,448\n",
      "\n",
      "📂 youtube_dataset_20250605.xlsx\n",
      "最も古い動画投稿日: 2022-02-03 07:49:04+00:00\n",
      "タイトル: 日本語が苦手な外国人をカレー屋さんに連れてってみた。#ステパン\n",
      "再生回数: 2,471,597\n",
      "\n",
      "📂 youtube_dataset_20250731.xlsx\n",
      "最も古い動画投稿日: 2022-02-03 07:49:04+00:00\n",
      "タイトル: 日本語が苦手な外国人をカレー屋さんに連れてってみた。#ステパン\n",
      "再生回数: 2,754,340\n"
     ]
    }
   ],
   "source": [
    "import pandas as pd\n",
    "\n",
    "files = [\n",
    "    \"youtube_dataset.xlsx\",\n",
    "    \"youtube_dataset_0605.xlsx\",\n",
    "    \"youtube_dataset_20250605.xlsx\",\n",
    "    \"youtube_dataset_20250731.xlsx\"\n",
    "]\n",
    "\n",
    "for file in files:\n",
    "    df = pd.read_excel(file)\n",
    "    df[\"publishedAt\"] = pd.to_datetime(df[\"publishedAt\"], errors=\"coerce\")\n",
    "    oldest = df.sort_values(\"publishedAt\").iloc[0]\n",
    "    print(f\"\\n📂 {file}\")\n",
    "    print(f\"最も古い動画投稿日: {oldest['publishedAt']}\")\n",
    "    print(f\"タイトル: {oldest['title']}\")\n",
    "    print(f\"再生回数: {oldest['viewCount']:,}\")\n"
   ]
  },
  {
   "cell_type": "code",
   "execution_count": 3,
   "id": "c0378415-6be3-4027-adf3-a60650d6ca8e",
   "metadata": {},
   "outputs": [
    {
     "name": "stdout",
     "output_type": "stream",
     "text": [
      "\n",
      "📂 youtube_dataset.xlsx\n",
      "最も古い動画投稿日: 2023-03-23 08:22:28+00:00\n",
      "タイトル: 絶対に歯を見せてはいけないオタクドライブ【TikTokで300万再生】\n",
      "再生回数: 21,275\n",
      "\n",
      "📂 youtube_dataset_0605.xlsx\n",
      "最も古い動画投稿日: 2022-02-26 05:51:05+00:00\n",
      "タイトル: 【TikTokで大バズり】データが消えて→復元して→また消えた黒人の末路。#ステパン\n",
      "再生回数: 8,967,448\n",
      "\n",
      "📂 youtube_dataset_20250605.xlsx\n",
      "最も古い動画投稿日: 2022-02-03 07:49:04+00:00\n",
      "タイトル: 日本語が苦手な外国人をカレー屋さんに連れてってみた。#ステパン\n",
      "再生回数: 2,471,597\n",
      "\n",
      "📂 youtube_dataset_20250731.xlsx\n",
      "最も古い動画投稿日: 2022-02-03 07:49:04+00:00\n",
      "タイトル: 日本語が苦手な外国人をカレー屋さんに連れてってみた。#ステパン\n",
      "再生回数: 2,754,340\n",
      "\n",
      "📂 youtube_dataset_20250829.xlsx\n",
      "最も古い動画投稿日: 2022-02-03 07:49:04+00:00\n",
      "タイトル: 日本語が苦手な外国人をカレー屋さんに連れてってみた。#ステパン\n",
      "再生回数: 3,030,649\n"
     ]
    }
   ],
   "source": [
    "import pandas as pd\n",
    "\n",
    "files = [\n",
    "    \"youtube_dataset.xlsx\",\n",
    "    \"youtube_dataset_0605.xlsx\",\n",
    "    \"youtube_dataset_20250605.xlsx\",\n",
    "    \"youtube_dataset_20250731.xlsx\",\n",
    "    \"youtube_dataset_20250829.xlsx\"\n",
    "]\n",
    "\n",
    "for file in files:\n",
    "    df = pd.read_excel(file)\n",
    "    df[\"publishedAt\"] = pd.to_datetime(df[\"publishedAt\"], errors=\"coerce\")\n",
    "    \n",
    "    oldest = df.sort_values(\"publishedAt\").iloc[0]\n",
    "    print(f\"\\n📂 {file}\")\n",
    "    print(f\"最も古い動画投稿日: {oldest['publishedAt']}\")\n",
    "    print(f\"タイトル: {oldest['title']}\")\n",
    "    print(f\"再生回数: {oldest['viewCount']:,}\")\n"
   ]
  },
  {
   "cell_type": "code",
   "execution_count": null,
   "id": "a3b2e668-f9ba-4888-a22f-d1169c77c2ca",
   "metadata": {},
   "outputs": [],
   "source": []
  }
 ],
 "metadata": {
  "kernelspec": {
   "display_name": "Python (faceenv)",
   "language": "python",
   "name": "faceenv"
  },
  "language_info": {
   "codemirror_mode": {
    "name": "ipython",
    "version": 3
   },
   "file_extension": ".py",
   "mimetype": "text/x-python",
   "name": "python",
   "nbconvert_exporter": "python",
   "pygments_lexer": "ipython3",
   "version": "3.9.23"
  }
 },
 "nbformat": 4,
 "nbformat_minor": 5
}
